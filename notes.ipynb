{
 "cells": [
  {
   "cell_type": "code",
   "execution_count": null,
   "metadata": {},
   "outputs": [],
   "source": [
    "#Hough Circle Transform\n",
    "#https://docs.opencv.org/3.4/da/d53/tutorial_py_houghcircles.html\n",
    "\n",
    "#Blob detection\n",
    "#https://www.youtube.com/watch?v=1GzU-w9HHKs&ab_channel=AhadCove\n",
    "\n",
    "#Geospatial crop counting from drone orthophotos with Python and Scikit Learn\n",
    "#https://www.youtube.com/watch?v=G3tP6mmXe_k"
   ]
  }
 ],
 "metadata": {
  "kernelspec": {
   "display_name": "Python 3",
   "language": "python",
   "name": "python3"
  },
  "language_info": {
   "codemirror_mode": {
    "name": "ipython",
    "version": 3
   },
   "file_extension": ".py",
   "mimetype": "text/x-python",
   "name": "python",
   "nbconvert_exporter": "python",
   "pygments_lexer": "ipython3",
   "version": "3.10.11"
  },
  "orig_nbformat": 4
 },
 "nbformat": 4,
 "nbformat_minor": 2
}
